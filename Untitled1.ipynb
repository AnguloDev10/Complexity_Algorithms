{
  "nbformat": 4,
  "nbformat_minor": 0,
  "metadata": {
    "colab": {
      "name": "Untitled1.ipynb",
      "provenance": [],
      "authorship_tag": "ABX9TyNiU979en6Q+paB1IghQcag",
      "include_colab_link": true
    },
    "kernelspec": {
      "name": "python3",
      "display_name": "Python 3"
    }
  },
  "cells": [
    {
      "cell_type": "markdown",
      "metadata": {
        "id": "view-in-github",
        "colab_type": "text"
      },
      "source": [
        "<a href=\"https://colab.research.google.com/github/AnguloVallleWilliam/CA/blob/master/Untitled1.ipynb\" target=\"_parent\"><img src=\"https://colab.research.google.com/assets/colab-badge.svg\" alt=\"Open In Colab\"/></a>"
      ]
    },
    {
      "cell_type": "code",
      "metadata": {
        "id": "X3hs7B9E5nOI",
        "colab_type": "code",
        "colab": {
          "base_uri": "https://localhost:8080/",
          "height": 34
        },
        "outputId": "dc125c73-0661-41b2-8f6a-811203bf80d5"
      },
      "source": [
        ""
      ],
      "execution_count": null,
      "outputs": [
        {
          "output_type": "execute_result",
          "data": {
            "text/plain": [
              "[0, 1, 2, 3, 4, 5, 6, 7, 8, 9]"
            ]
          },
          "metadata": {
            "tags": []
          },
          "execution_count": 1
        }
      ]
    },
    {
      "cell_type": "code",
      "metadata": {
        "id": "QrCXBOFYeT6f",
        "colab_type": "code",
        "colab": {}
      },
      "source": [
        "def generar(n):\n",
        "  array=[]\n",
        "  ##recorriendo\n",
        "  for i in range(n):\n",
        "      array.append(random.randint(1,100))\n",
        "      return array"
      ],
      "execution_count": null,
      "outputs": []
    },
    {
      "cell_type": "code",
      "metadata": {
        "id": "HeAJ1cA7qK67",
        "colab_type": "code",
        "colab": {}
      },
      "source": [
        "def generar2(n): \n",
        "     arr = [0]*n \n",
        "     for i in range(n): \n",
        "         arr[i] = (rnd.randint(1,100)) \n",
        "     return arr \n",
        "def generar3(n):\n",
        "  return[random.randint(1,100) for _ in range(n)]#El _ es por una variable obsoleta"
      ],
      "execution_count": null,
      "outputs": []
    },
    {
      "cell_type": "code",
      "metadata": {
        "id": "URqOypaPqLxZ",
        "colab_type": "code",
        "colab": {}
      },
      "source": [
        "def mostrar(arr):\n",
        "  print(arr)\n",
        "def mostrar2(arr):\n",
        "  n=len(arr)\n",
        "  for i in range(0,n):\n",
        "    print('El elemento en pos %d: %d'%(i+1,arr[i]))"
      ],
      "execution_count": null,
      "outputs": []
    },
    {
      "cell_type": "code",
      "metadata": {
        "id": "fZaYnVDPqo9x",
        "colab_type": "code",
        "colab": {}
      },
      "source": [
        "##Reversa\n",
        "#a[::-1]    # all items in the array, reversed\n",
        "#a[1::-1]   # the first two items, reversed\n",
        "#a[:-3:-1]  # the last two items, reversed\n",
        "#a[-3::-1]  # everything except the last two items, reversed\n",
        "\n",
        "def reversa(array)\n",
        "print(array[::-1])\n",
        "\n",
        "def array_min(array):\n",
        "return min(array)\n",
        "def array_max(array):\n",
        "return max(array)\n",
        "def array_average(array):\n",
        "return sum(array)/len(array)"
      ],
      "execution_count": null,
      "outputs": []
    },
    {
      "cell_type": "code",
      "metadata": {
        "id": "bGhwOX-irT6K",
        "colab_type": "code",
        "colab": {}
      },
      "source": [
        "def count_ocurrencies(array):\n",
        "\tcounter = [0 for i in range(len(array) + 1)]\n",
        "\n",
        "\tfor i in array:\n",
        "\t\tcounter[i] += 1\n",
        "\n",
        "\treturn counter\n",
        "\n",
        "\n",
        "def ocurrencies_average(ocurrencies):\n",
        "\ttotal = 0\n",
        "\tcounter = 0\n",
        "\n",
        "\tfor i, val in enumerate(ocurrencies):\n",
        "\t\ttotal += i * val\n",
        "\t\tcounter += val\n",
        "\n",
        "\treturn total / counter\n",
        "\n"
      ],
      "execution_count": null,
      "outputs": []
    },
    {
      "cell_type": "code",
      "metadata": {
        "id": "lV9Glj0mh1Hb",
        "colab_type": "code",
        "colab": {}
      },
      "source": [
        "def run():\n",
        "  arr = generar3(100)\n",
        "  print(mostrar(arr)) \n",
        "  print(array_min(arr))\n",
        "  print(array_average(arr))\n",
        "\t# print(count_ocurrencies(arr))\n",
        "  print(ocurrencies_average(count_ocurrencies(arr)))"
      ],
      "execution_count": null,
      "outputs": []
    },
    {
      "cell_type": "code",
      "metadata": {
        "id": "DndSqwpTh3DS",
        "colab_type": "code",
        "colab": {
          "base_uri": "https://localhost:8080/",
          "height": 34
        },
        "outputId": "74ab4e47-815c-40ee-efb3-9ab31761efaa"
      },
      "source": [
        "run()"
      ],
      "execution_count": 1,
      "outputs": [
        {
          "output_type": "stream",
          "text": [
            "ERROR:root:File `'().py'` not found.\n"
          ],
          "name": "stderr"
        }
      ]
    }
  ]
}